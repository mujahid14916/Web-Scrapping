{
 "cells": [
  {
   "cell_type": "code",
   "execution_count": 1,
   "metadata": {},
   "outputs": [],
   "source": [
    "from selenium import webdriver\n",
    "from time import sleep, time\n",
    "from pprint import pprint\n",
    "import json\n",
    "import re"
   ]
  },
  {
   "cell_type": "code",
   "execution_count": 45,
   "metadata": {},
   "outputs": [],
   "source": [
    "driver = webdriver.Firefox()"
   ]
  },
  {
   "cell_type": "code",
   "execution_count": 89,
   "metadata": {},
   "outputs": [],
   "source": [
    "url = 'https://www.coursera.org/browse/personal-development'"
   ]
  },
  {
   "cell_type": "code",
   "execution_count": 90,
   "metadata": {},
   "outputs": [],
   "source": [
    "driver.get(url=url)"
   ]
  },
  {
   "cell_type": "code",
   "execution_count": 91,
   "metadata": {},
   "outputs": [],
   "source": [
    "btn = driver.find_element_by_class_name('Button_clbp6a-o_O-icon_1ma9ny8-o_O-sm_pd780u')\n",
    "btn.click()"
   ]
  },
  {
   "cell_type": "code",
   "execution_count": 92,
   "metadata": {},
   "outputs": [
    {
     "data": {
      "text/plain": [
       "89"
      ]
     },
     "execution_count": 92,
     "metadata": {},
     "output_type": "execute_result"
    }
   ],
   "source": [
    "check = driver.find_elements_by_class_name('input_3xha1c-o_O-active_ro0g1e')\n",
    "cat_count = len(check)\n",
    "cat_count"
   ]
  },
  {
   "cell_type": "code",
   "execution_count": 93,
   "metadata": {
    "scrolled": true
   },
   "outputs": [
    {
     "name": "stdout",
     "output_type": "stream",
     "text": [
      "Progress: 89/89"
     ]
    }
   ],
   "source": [
    "doc_list = []\n",
    "s = 5\n",
    "for i in range(cat_count):\n",
    "    btn.click()\n",
    "    cat = driver.find_elements_by_class_name('flex1_mv0w51')\n",
    "    cat_name = cat[i].text\n",
    "    check = driver.find_elements_by_class_name('input_3xha1c-o_O-active_ro0g1e')\n",
    "    check[i].click()\n",
    "    apply = driver.find_element_by_class_name('Button_clbp6a-o_O-primary_cv02ee-o_O-md_1jvotax')\n",
    "    apply.click()\n",
    "    sleep(s)\n",
    "    # print(\"Category: {}\".format(cat_name))\n",
    "    \n",
    "    unique_list = []\n",
    "    last_height = driver.execute_script(\"return document.body.scrollHeight\")\n",
    "    s_offset = 0\n",
    "    e_offset = 1000\n",
    "    while True:\n",
    "        sleep(3)\n",
    "        items = driver.find_elements_by_class_name('offering-wrapper')\n",
    "        for item in items:\n",
    "            if item not in unique_list:\n",
    "                unique_list.append(item)\n",
    "                \n",
    "                d = {}\n",
    "                info = item.find_element_by_class_name('product-info')\n",
    "                prod = info.find_element_by_class_name('product-name')\n",
    "                part = info.find_element_by_class_name('partner-name')\n",
    "                course_type = info.find_element_by_css_selector('div')\n",
    "                ratings = item.find_element_by_class_name('ratings-text')\n",
    "                link = item.find_element_by_class_name('search-offering-card')\n",
    "                meta_data = item.find_elements_by_class_name('product-metadata')\n",
    "                # print(prod.text, end='\\t')\n",
    "                # print(part.text, end='\\t')\n",
    "                # print(ratings.text)\n",
    "                \n",
    "                d['category'] = cat_name\n",
    "                d['title'] = prod.text\n",
    "                d['partner'] = part.text\n",
    "                d['link'] = link.get_attribute(name='href')\n",
    "                d['rating'] = float(ratings.text)\n",
    "                d['type'] = course_type.text\n",
    "                try:\n",
    "                    d['course_count'] = meta_data[0].text\n",
    "                except:\n",
    "                    d['course_count'] = '1 COURSE'\n",
    "                try:\n",
    "                    d['duration'] = meta_data[1].text\n",
    "                except:\n",
    "                    d['duration'] = '0 HOURS'\n",
    "                try:\n",
    "                    d['level'] = meta_data[2].text\n",
    "                except:\n",
    "                    d['level'] = 'BEGINNER'\n",
    "                try:\n",
    "                    rating_c = item.find_element_by_class_name('ratings-count')\n",
    "                    d['users'] = int(rating_c.text.replace('(','').replace(')','').replace(',',''))\n",
    "                except Exception as e:\n",
    "                    d['users'] = 0\n",
    "                doc_list.append(d)\n",
    "                \n",
    "        driver.execute_script('window.scrollTo('+str(s_offset)+', ' + str(e_offset)+');')\n",
    "        new_height = driver.execute_script(\"return window.scrollY\")\n",
    "        s_offset = e_offset\n",
    "        e_offset += 1000\n",
    "        if new_height == last_height:\n",
    "            break\n",
    "        last_height = new_height\n",
    "    \n",
    "    btn.click()\n",
    "    check = driver.find_elements_by_class_name('input_3xha1c-o_O-active_ro0g1e')\n",
    "    check[0].click()\n",
    "    apply = driver.find_element_by_class_name('Button_clbp6a-o_O-primary_cv02ee-o_O-md_1jvotax')\n",
    "    apply.click()\n",
    "    print('\\rProgress: {}/{}'.format(i+1, cat_count), end='')\n",
    "    # print()\n",
    "    sleep(3)\n"
   ]
  },
  {
   "cell_type": "code",
   "execution_count": 94,
   "metadata": {
    "scrolled": true
   },
   "outputs": [],
   "source": [
    "for doc in doc_list:\n",
    "    doc['category'] = re.sub(' \\([0-9]+\\)', '', doc['category'])"
   ]
  },
  {
   "cell_type": "code",
   "execution_count": 95,
   "metadata": {},
   "outputs": [],
   "source": [
    "with open(url.split('/')[-1] + ' ' + str(time()) + '.txt', 'w', encoding='utf-16') as f:\n",
    "    pprint(doc_list, stream=f)"
   ]
  },
  {
   "cell_type": "code",
   "execution_count": 96,
   "metadata": {},
   "outputs": [],
   "source": [
    "with open(url.split('/')[-1] + ' ' + str(time()) + '.json', 'w') as f:\n",
    "    f.write(json.dumps(doc_list, indent=4))"
   ]
  },
  {
   "cell_type": "code",
   "execution_count": 86,
   "metadata": {},
   "outputs": [],
   "source": [
    "processed_list = []\n",
    "titles = []\n",
    "for d in doc_list:\n",
    "    if d['title'] in titles:\n",
    "        for i in range(len(processed_list)):\n",
    "            if processed_list[i]['title'] == d['title']:\n",
    "                processed_list[i]['category'].append(d['category'])\n",
    "                break\n",
    "        continue\n",
    "    d['category'] = [d['category']]\n",
    "    d['course_count'] = int(d['course_count'].replace(' COURSE', '').replace('S', ''))\n",
    "    d['duration'] = int(re.sub('[ ]*HOUR[S]?', '', d['duration']))\n",
    "    processed_list.append(d)\n",
    "    titles.append(d['title'])"
   ]
  },
  {
   "cell_type": "code",
   "execution_count": 98,
   "metadata": {},
   "outputs": [],
   "source": [
    "with open(url.split('/')[-1] + ' ' + str(time()) + '.txt','w', encoding='utf-16') as f:\n",
    "    pprint(processed_list, stream=f)"
   ]
  },
  {
   "cell_type": "code",
   "execution_count": 99,
   "metadata": {},
   "outputs": [],
   "source": [
    "with open(url.split('/')[-1] + ' ' + str(time()) + '.json', 'w') as f:\n",
    "    f.write(json.dumps(processed_list, indent=4))"
   ]
  },
  {
   "cell_type": "code",
   "execution_count": 100,
   "metadata": {
    "scrolled": true
   },
   "outputs": [
    {
     "data": {
      "text/plain": [
       "143"
      ]
     },
     "execution_count": 100,
     "metadata": {},
     "output_type": "execute_result"
    }
   ],
   "source": [
    "len(doc_list)"
   ]
  },
  {
   "cell_type": "code",
   "execution_count": 101,
   "metadata": {
    "scrolled": true
   },
   "outputs": [
    {
     "data": {
      "text/plain": [
       "63"
      ]
     },
     "execution_count": 101,
     "metadata": {},
     "output_type": "execute_result"
    }
   ],
   "source": [
    "len(processed_list)"
   ]
  },
  {
   "cell_type": "code",
   "execution_count": null,
   "metadata": {},
   "outputs": [],
   "source": []
  }
 ],
 "metadata": {
  "kernelspec": {
   "display_name": "Python 3",
   "language": "python",
   "name": "python3"
  },
  "language_info": {
   "codemirror_mode": {
    "name": "ipython",
    "version": 3
   },
   "file_extension": ".py",
   "mimetype": "text/x-python",
   "name": "python",
   "nbconvert_exporter": "python",
   "pygments_lexer": "ipython3",
   "version": "3.6.6"
  }
 },
 "nbformat": 4,
 "nbformat_minor": 2
}
